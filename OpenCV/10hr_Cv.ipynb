{
 "cells": [
  {
   "cell_type": "code",
   "execution_count": 1,
   "metadata": {},
   "outputs": [
    {
     "name": "stdout",
     "output_type": "stream",
     "text": [
      "Collecting opencv-python\n",
      "  Downloading opencv_python-4.10.0.84-cp37-abi3-win_amd64.whl.metadata (20 kB)\n",
      "Requirement already satisfied: numpy>=1.21.2 in c:\\users\\sachin chaurasiya\\appdata\\local\\programs\\python\\python310\\lib\\site-packages (from opencv-python) (1.26.4)\n",
      "Downloading opencv_python-4.10.0.84-cp37-abi3-win_amd64.whl (38.8 MB)\n",
      "   ---------------------------------------- 0.0/38.8 MB ? eta -:--:--\n",
      "    --------------------------------------- 1.0/38.8 MB 30.7 MB/s eta 0:00:02\n",
      "   - -------------------------------------- 1.5/38.8 MB 30.7 MB/s eta 0:00:02\n",
      "   - -------------------------------------- 1.5/38.8 MB 30.7 MB/s eta 0:00:02\n",
      "   - -------------------------------------- 1.5/38.8 MB 30.7 MB/s eta 0:00:02\n",
      "   - -------------------------------------- 1.5/38.8 MB 30.7 MB/s eta 0:00:02\n",
      "   - -------------------------------------- 1.5/38.8 MB 30.7 MB/s eta 0:00:02\n",
      "   - -------------------------------------- 1.9/38.8 MB 6.0 MB/s eta 0:00:07\n",
      "   -- ------------------------------------- 2.7/38.8 MB 7.8 MB/s eta 0:00:05\n",
      "   -- ------------------------------------- 2.7/38.8 MB 7.8 MB/s eta 0:00:05\n",
      "   -- ------------------------------------- 2.7/38.8 MB 7.8 MB/s eta 0:00:05\n",
      "   -- ------------------------------------- 2.7/38.8 MB 7.8 MB/s eta 0:00:05\n",
      "   -- ------------------------------------- 2.7/38.8 MB 7.8 MB/s eta 0:00:05\n",
      "   --- ------------------------------------ 3.6/38.8 MB 5.9 MB/s eta 0:00:06\n",
      "   ---- ----------------------------------- 4.6/38.8 MB 7.0 MB/s eta 0:00:05\n",
      "   ----- ---------------------------------- 4.9/38.8 MB 7.0 MB/s eta 0:00:05\n",
      "   ----- ---------------------------------- 5.1/38.8 MB 7.2 MB/s eta 0:00:05\n",
      "   ----- ---------------------------------- 5.1/38.8 MB 7.2 MB/s eta 0:00:05\n",
      "   ----- ---------------------------------- 5.1/38.8 MB 7.2 MB/s eta 0:00:05\n",
      "   ----- ---------------------------------- 5.1/38.8 MB 7.2 MB/s eta 0:00:05\n",
      "   ----- ---------------------------------- 5.1/38.8 MB 7.2 MB/s eta 0:00:05\n",
      "   ----- ---------------------------------- 5.7/38.8 MB 5.9 MB/s eta 0:00:06\n",
      "   ------- -------------------------------- 6.8/38.8 MB 6.7 MB/s eta 0:00:05\n",
      "   ------- -------------------------------- 7.0/38.8 MB 6.7 MB/s eta 0:00:05\n",
      "   ------- -------------------------------- 7.0/38.8 MB 6.7 MB/s eta 0:00:05\n",
      "   ------- -------------------------------- 7.0/38.8 MB 6.7 MB/s eta 0:00:05\n",
      "   ------- -------------------------------- 7.0/38.8 MB 6.7 MB/s eta 0:00:05\n",
      "   ------- -------------------------------- 7.0/38.8 MB 6.7 MB/s eta 0:00:05\n",
      "   ------- -------------------------------- 7.2/38.8 MB 5.5 MB/s eta 0:00:06\n",
      "   -------- ------------------------------- 7.9/38.8 MB 5.8 MB/s eta 0:00:06\n",
      "   -------- ------------------------------- 8.6/38.8 MB 6.2 MB/s eta 0:00:05\n",
      "   --------- ------------------------------ 9.1/38.8 MB 6.3 MB/s eta 0:00:05\n",
      "   --------- ------------------------------ 9.4/38.8 MB 6.3 MB/s eta 0:00:05\n",
      "   --------- ------------------------------ 9.6/38.8 MB 6.3 MB/s eta 0:00:05\n",
      "   ---------- ----------------------------- 9.8/38.8 MB 6.2 MB/s eta 0:00:05\n",
      "   ---------- ----------------------------- 10.0/38.8 MB 6.1 MB/s eta 0:00:05\n",
      "   ---------- ----------------------------- 10.2/38.8 MB 6.1 MB/s eta 0:00:05\n",
      "   ---------- ----------------------------- 10.5/38.8 MB 6.0 MB/s eta 0:00:05\n",
      "   ----------- ---------------------------- 10.7/38.8 MB 5.8 MB/s eta 0:00:05\n",
      "   ----------- ---------------------------- 10.9/38.8 MB 5.7 MB/s eta 0:00:05\n",
      "   ----------- ---------------------------- 11.1/38.8 MB 5.6 MB/s eta 0:00:06\n",
      "   ----------- ---------------------------- 11.3/38.8 MB 5.5 MB/s eta 0:00:06\n",
      "   ----------- ---------------------------- 11.5/38.8 MB 5.4 MB/s eta 0:00:06\n",
      "   ------------ --------------------------- 11.8/38.8 MB 6.0 MB/s eta 0:00:05\n",
      "   ------------ --------------------------- 12.2/38.8 MB 5.9 MB/s eta 0:00:05\n",
      "   ------------ --------------------------- 12.6/38.8 MB 5.8 MB/s eta 0:00:05\n",
      "   ------------- -------------------------- 12.9/38.8 MB 5.6 MB/s eta 0:00:05\n",
      "   ------------- -------------------------- 13.3/38.8 MB 6.4 MB/s eta 0:00:05\n",
      "   ------------- -------------------------- 13.5/38.8 MB 6.2 MB/s eta 0:00:05\n",
      "   -------------- ------------------------- 13.7/38.8 MB 6.1 MB/s eta 0:00:05\n",
      "   -------------- ------------------------- 13.9/38.8 MB 6.0 MB/s eta 0:00:05\n",
      "   -------------- ------------------------- 14.1/38.8 MB 5.8 MB/s eta 0:00:05\n",
      "   -------------- ------------------------- 14.4/38.8 MB 5.7 MB/s eta 0:00:05\n",
      "   --------------- ------------------------ 14.8/38.8 MB 5.6 MB/s eta 0:00:05\n",
      "   --------------- ------------------------ 15.1/38.8 MB 5.6 MB/s eta 0:00:05\n",
      "   ---------------- ----------------------- 15.5/38.8 MB 6.4 MB/s eta 0:00:04\n",
      "   ---------------- ----------------------- 16.1/38.8 MB 6.2 MB/s eta 0:00:04\n",
      "   ---------------- ----------------------- 16.4/38.8 MB 6.2 MB/s eta 0:00:04\n",
      "   ----------------- ---------------------- 16.7/38.8 MB 6.1 MB/s eta 0:00:04\n",
      "   ----------------- ---------------------- 16.9/38.8 MB 6.0 MB/s eta 0:00:04\n",
      "   ----------------- ---------------------- 17.2/38.8 MB 6.8 MB/s eta 0:00:04\n",
      "   ------------------ --------------------- 17.8/38.8 MB 6.6 MB/s eta 0:00:04\n",
      "   ------------------ --------------------- 18.0/38.8 MB 6.5 MB/s eta 0:00:04\n",
      "   ------------------ --------------------- 18.2/38.8 MB 6.4 MB/s eta 0:00:04\n",
      "   ------------------ --------------------- 18.3/38.8 MB 6.2 MB/s eta 0:00:04\n",
      "   ------------------- -------------------- 18.9/38.8 MB 6.1 MB/s eta 0:00:04\n",
      "   ------------------- -------------------- 19.3/38.8 MB 6.0 MB/s eta 0:00:04\n",
      "   -------------------- ------------------- 19.5/38.8 MB 5.9 MB/s eta 0:00:04\n",
      "   -------------------- ------------------- 19.7/38.8 MB 5.9 MB/s eta 0:00:04\n",
      "   -------------------- ------------------- 19.9/38.8 MB 5.8 MB/s eta 0:00:04\n",
      "   -------------------- ------------------- 20.1/38.8 MB 5.9 MB/s eta 0:00:04\n",
      "   --------------------- ------------------ 20.5/38.8 MB 6.0 MB/s eta 0:00:04\n",
      "   --------------------- ------------------ 20.9/38.8 MB 6.0 MB/s eta 0:00:03\n",
      "   --------------------- ------------------ 21.3/38.8 MB 6.2 MB/s eta 0:00:03\n",
      "   ---------------------- ----------------- 21.5/38.8 MB 6.2 MB/s eta 0:00:03\n",
      "   ---------------------- ----------------- 21.7/38.8 MB 6.2 MB/s eta 0:00:03\n",
      "   ---------------------- ----------------- 22.2/38.8 MB 6.2 MB/s eta 0:00:03\n",
      "   ----------------------- ---------------- 22.5/38.8 MB 6.2 MB/s eta 0:00:03\n",
      "   ----------------------- ---------------- 22.7/38.8 MB 6.1 MB/s eta 0:00:03\n",
      "   ----------------------- ---------------- 23.0/38.8 MB 6.1 MB/s eta 0:00:03\n",
      "   ------------------------ --------------- 23.3/38.8 MB 6.1 MB/s eta 0:00:03\n",
      "   ------------------------ --------------- 23.7/38.8 MB 6.2 MB/s eta 0:00:03\n",
      "   ------------------------ --------------- 24.2/38.8 MB 6.4 MB/s eta 0:00:03\n",
      "   ------------------------- -------------- 24.6/38.8 MB 6.5 MB/s eta 0:00:03\n",
      "   ------------------------- -------------- 24.9/38.8 MB 6.4 MB/s eta 0:00:03\n",
      "   ------------------------- -------------- 25.1/38.8 MB 6.4 MB/s eta 0:00:03\n",
      "   -------------------------- ------------- 25.4/38.8 MB 6.3 MB/s eta 0:00:03\n",
      "   -------------------------- ------------- 25.6/38.8 MB 6.2 MB/s eta 0:00:03\n",
      "   -------------------------- ------------- 25.8/38.8 MB 6.1 MB/s eta 0:00:03\n",
      "   -------------------------- ------------- 25.9/38.8 MB 6.1 MB/s eta 0:00:03\n",
      "   -------------------------- ------------- 26.1/38.8 MB 6.0 MB/s eta 0:00:03\n",
      "   --------------------------- ------------ 26.3/38.8 MB 5.8 MB/s eta 0:00:03\n",
      "   --------------------------- ------------ 26.7/38.8 MB 5.8 MB/s eta 0:00:03\n",
      "   --------------------------- ------------ 27.0/38.8 MB 5.8 MB/s eta 0:00:03\n",
      "   ---------------------------- ----------- 27.3/38.8 MB 5.9 MB/s eta 0:00:02\n",
      "   ---------------------------- ----------- 27.7/38.8 MB 6.0 MB/s eta 0:00:02\n",
      "   ---------------------------- ----------- 28.0/38.8 MB 6.0 MB/s eta 0:00:02\n",
      "   ----------------------------- ---------- 28.4/38.8 MB 6.1 MB/s eta 0:00:02\n",
      "   ----------------------------- ---------- 28.8/38.8 MB 6.2 MB/s eta 0:00:02\n",
      "   ------------------------------ --------- 29.2/38.8 MB 6.2 MB/s eta 0:00:02\n",
      "   ------------------------------ --------- 29.4/38.8 MB 6.2 MB/s eta 0:00:02\n",
      "   ------------------------------ --------- 29.6/38.8 MB 6.2 MB/s eta 0:00:02\n",
      "   ------------------------------ --------- 29.7/38.8 MB 6.1 MB/s eta 0:00:02\n",
      "   ------------------------------ --------- 29.9/38.8 MB 6.1 MB/s eta 0:00:02\n",
      "   ------------------------------- -------- 30.2/38.8 MB 6.2 MB/s eta 0:00:02\n",
      "   ------------------------------- -------- 30.5/38.8 MB 6.2 MB/s eta 0:00:02\n",
      "   ------------------------------- -------- 30.8/38.8 MB 6.2 MB/s eta 0:00:02\n",
      "   ------------------------------- -------- 31.0/38.8 MB 6.1 MB/s eta 0:00:02\n",
      "   -------------------------------- ------- 31.3/38.8 MB 6.1 MB/s eta 0:00:02\n",
      "   -------------------------------- ------- 31.7/38.8 MB 6.1 MB/s eta 0:00:02\n",
      "   --------------------------------- ------ 32.1/38.8 MB 6.2 MB/s eta 0:00:02\n",
      "   --------------------------------- ------ 32.4/38.8 MB 6.2 MB/s eta 0:00:02\n",
      "   --------------------------------- ------ 32.6/38.8 MB 6.2 MB/s eta 0:00:02\n",
      "   --------------------------------- ------ 32.9/38.8 MB 6.2 MB/s eta 0:00:01\n",
      "   ---------------------------------- ----- 33.2/38.8 MB 6.2 MB/s eta 0:00:01\n",
      "   ---------------------------------- ----- 33.6/38.8 MB 6.2 MB/s eta 0:00:01\n",
      "   ---------------------------------- ----- 33.9/38.8 MB 6.2 MB/s eta 0:00:01\n",
      "   ----------------------------------- ---- 34.1/38.8 MB 6.1 MB/s eta 0:00:01\n",
      "   ----------------------------------- ---- 34.3/38.8 MB 6.0 MB/s eta 0:00:01\n",
      "   ----------------------------------- ---- 34.5/38.8 MB 5.9 MB/s eta 0:00:01\n",
      "   ----------------------------------- ---- 34.7/38.8 MB 5.8 MB/s eta 0:00:01\n",
      "   ----------------------------------- ---- 34.9/38.8 MB 5.7 MB/s eta 0:00:01\n",
      "   ------------------------------------ --- 35.1/38.8 MB 5.7 MB/s eta 0:00:01\n",
      "   ------------------------------------ --- 35.3/38.8 MB 5.8 MB/s eta 0:00:01\n",
      "   ------------------------------------ --- 35.7/38.8 MB 5.8 MB/s eta 0:00:01\n",
      "   ------------------------------------- -- 36.1/38.8 MB 6.1 MB/s eta 0:00:01\n",
      "   ------------------------------------- -- 36.5/38.8 MB 6.2 MB/s eta 0:00:01\n",
      "   -------------------------------------- - 37.0/38.8 MB 6.3 MB/s eta 0:00:01\n",
      "   -------------------------------------- - 37.3/38.8 MB 6.2 MB/s eta 0:00:01\n",
      "   -------------------------------------- - 37.5/38.8 MB 6.2 MB/s eta 0:00:01\n",
      "   -------------------------------------- - 37.6/38.8 MB 6.1 MB/s eta 0:00:01\n",
      "   -------------------------------------- - 37.8/38.8 MB 6.0 MB/s eta 0:00:01\n",
      "   ---------------------------------------  38.0/38.8 MB 6.0 MB/s eta 0:00:01\n",
      "   ---------------------------------------  38.3/38.8 MB 5.9 MB/s eta 0:00:01\n",
      "   ---------------------------------------  38.6/38.8 MB 5.9 MB/s eta 0:00:01\n",
      "   ---------------------------------------  38.8/38.8 MB 5.9 MB/s eta 0:00:01\n",
      "   ---------------------------------------  38.8/38.8 MB 5.9 MB/s eta 0:00:01\n",
      "   ---------------------------------------- 38.8/38.8 MB 5.7 MB/s eta 0:00:00\n",
      "Installing collected packages: opencv-python\n",
      "Successfully installed opencv-python-4.10.0.84\n",
      "Note: you may need to restart the kernel to use updated packages.\n"
     ]
    },
    {
     "name": "stderr",
     "output_type": "stream",
     "text": [
      "\n",
      "[notice] A new release of pip is available: 24.0 -> 24.2\n",
      "[notice] To update, run: python.exe -m pip install --upgrade pip\n"
     ]
    }
   ],
   "source": [
    "%pip install  opencv-python"
   ]
  },
  {
   "cell_type": "markdown",
   "metadata": {},
   "source": [
    "How To read Picture from  the user"
   ]
  },
  {
   "cell_type": "code",
   "execution_count": 2,
   "metadata": {},
   "outputs": [
    {
     "name": "stdout",
     "output_type": "stream",
     "text": [
      "[[171 167 165 ... 186 187 187]\n",
      " [172 168 168 ... 187 188 188]\n",
      " [180 176 175 ... 188 189 188]\n",
      " ...\n",
      " [165 165 165 ... 169 169 171]\n",
      " [165 165 165 ... 169 170 171]\n",
      " [165 165 165 ... 169 171 171]]\n"
     ]
    },
    {
     "data": {
      "text/plain": [
       "<function destroyAllWindows>"
      ]
     },
     "execution_count": 2,
     "metadata": {},
     "output_type": "execute_result"
    }
   ],
   "source": [
    "import cv2\n",
    "img=cv2.imread(''\"Sachin pic.jpg\",0) #There are three chhanel here for colour we can choose any one.\n",
    "cv2.imshow('img',img)       #I wiil take two argument one is frame name and other is variable name which we have to look.\n",
    "print(img)\n",
    "cv2.waitKey(0)             #no off milli second the img have to show on the screen\n",
    "cv2.destroyAllWindows"
   ]
  },
  {
   "cell_type": "markdown",
   "metadata": {},
   "source": [
    "How to read video from the web cam"
   ]
  },
  {
   "cell_type": "code",
   "execution_count": 1,
   "metadata": {},
   "outputs": [
    {
     "data": {
      "text/plain": [
       "<function destroyAllWindows>"
      ]
     },
     "execution_count": 1,
     "metadata": {},
     "output_type": "execute_result"
    }
   ],
   "source": [
    "import cv2\n",
    "cap=cv2.VideoCapture(0)\n",
    "while (True):\n",
    "    ret,frame=cap.read()\n",
    "    cv2.imshow('frame',frame)\n",
    "    if cv2.waitKey(1) & 0xFF==ord('q'):\n",
    "        break\n",
    "cap.release()\n",
    "cv2.destroyAllWindows"
   ]
  },
  {
   "cell_type": "markdown",
   "metadata": {},
   "source": [
    "How to read gray scale video from the web cam"
   ]
  },
  {
   "cell_type": "code",
   "execution_count": 2,
   "metadata": {},
   "outputs": [
    {
     "ename": "error",
     "evalue": "OpenCV(4.10.0) D:\\a\\opencv-python\\opencv-python\\opencv\\modules\\imgproc\\src\\color.cpp:196: error: (-215:Assertion failed) !_src.empty() in function 'cv::cvtColor'\n",
     "output_type": "error",
     "traceback": [
      "\u001b[1;31m---------------------------------------------------------------------------\u001b[0m",
      "\u001b[1;31merror\u001b[0m                                     Traceback (most recent call last)",
      "Cell \u001b[1;32mIn[2], line 5\u001b[0m\n\u001b[0;32m      3\u001b[0m \u001b[38;5;28;01mwhile\u001b[39;00m(\u001b[38;5;28;01mTrue\u001b[39;00m):\n\u001b[0;32m      4\u001b[0m     ret,frame\u001b[38;5;241m=\u001b[39mcap\u001b[38;5;241m.\u001b[39mread()\n\u001b[1;32m----> 5\u001b[0m     gray\u001b[38;5;241m=\u001b[39m\u001b[43mcv2\u001b[49m\u001b[38;5;241;43m.\u001b[39;49m\u001b[43mcvtColor\u001b[49m\u001b[43m(\u001b[49m\u001b[43mframe\u001b[49m\u001b[43m,\u001b[49m\u001b[43m \u001b[49m\u001b[43mcv2\u001b[49m\u001b[38;5;241;43m.\u001b[39;49m\u001b[43mCOLOR_BGR2GRAY\u001b[49m\u001b[43m)\u001b[49m \u001b[38;5;66;03m#converting the frame into gray scale and it take two parameter\u001b[39;00m\n\u001b[0;32m      7\u001b[0m     cv2\u001b[38;5;241m.\u001b[39mimshow(\u001b[38;5;124m'\u001b[39m\u001b[38;5;124mVideo\u001b[39m\u001b[38;5;124m'\u001b[39m,gray)\n\u001b[0;32m      8\u001b[0m     \u001b[38;5;28;01mif\u001b[39;00m cv2\u001b[38;5;241m.\u001b[39mwaitKey(\u001b[38;5;241m1\u001b[39m) \u001b[38;5;241m&\u001b[39m \u001b[38;5;241m0xFF\u001b[39m\u001b[38;5;241m==\u001b[39m\u001b[38;5;28mord\u001b[39m(\u001b[38;5;124m'\u001b[39m\u001b[38;5;124mq\u001b[39m\u001b[38;5;124m'\u001b[39m):\n",
      "\u001b[1;31merror\u001b[0m: OpenCV(4.10.0) D:\\a\\opencv-python\\opencv-python\\opencv\\modules\\imgproc\\src\\color.cpp:196: error: (-215:Assertion failed) !_src.empty() in function 'cv::cvtColor'\n"
     ]
    }
   ],
   "source": [
    "import cv2\n",
    "cap=cv2.VideoCapture(0)\n",
    "while(True):\n",
    "    ret,frame=cap.read()\n",
    "    gray=cv2.cvtColor(frame, cv2.COLOR_BGR2GRAY) #converting the frame into gray scale and it take two parameter\n",
    "\n",
    "    cv2.imshow('Video',gray)\n",
    "    if cv2.waitKey(1) & 0xFF==ord('q'):\n",
    "        break\n",
    "cap.release()\n",
    "cv2.destroyAllWindows()\n",
    "    "
   ]
  },
  {
   "cell_type": "code",
   "execution_count": null,
   "metadata": {},
   "outputs": [],
   "source": []
  },
  {
   "cell_type": "markdown",
   "metadata": {},
   "source": [
    "How to save Video from the camera"
   ]
  },
  {
   "cell_type": "code",
   "execution_count": null,
   "metadata": {},
   "outputs": [],
   "source": [
    "import cv2\n",
    "cap = cv2.VideoCapture(0)\n",
    "fourcc = cv2.VideoWriter_fourcc(*'XVID')  #Using a new class VideoWriter_fourcc() we can write the video in the file\n",
    "out = cv2.VideoWriter('output.avi', fourcc, 20.0, (640, 480))\n",
    "\n",
    "while True:\n",
    "    ret, frame = cap.read()\n",
    "    gray=cv2.cvtColor(frame, cv2.COLOR_BGR2GRAY) #converting the frame into gray scale and it take two parameter\n",
    "    if ret:\n",
    "        out.write(frame)            #It will write the video in the file\n",
    "        cv2.imshow('frame', gray)               #It will show the gray the video in the gray colour\n",
    "        if cv2.waitKey(1) & 0xFF == ord('q'):\n",
    "            break\n",
    "    else:\n",
    "        break\n",
    "\n",
    "cap.release()\n",
    "out.release()\n",
    "cv2.destroyAllWindows()  \n"
   ]
  },
  {
   "cell_type": "markdown",
   "metadata": {},
   "source": [
    "How to draw a line and rectangle on image"
   ]
  },
  {
   "cell_type": "code",
   "execution_count": null,
   "metadata": {},
   "outputs": [],
   "source": [
    "import numpy as np\n",
    "import cv2\n",
    "img=cv2.imread('test.jpg',0) #if we did't give second parameter then it will load default\n",
    "print(img)\n",
    "img=cv2.line(img,(0,0),(255,255),(255,0,0),4) #it will draw a line on image and it take four argumant (name of image,startig point,ending point,thickness)\n",
    "img=cv2.arrowedLine(img,(155,0),(255,263),(255,0,0),4) #it will draw a line on image and it take four argumant (name of image,startig point,ending point,thickness) it will draw arrow line\n",
    "img=cv2.rectangle(img,(384,0),(510,128),(0,0,255),1) #it will draw a rectangel last one is thickness if we use -1 it will fill the rectangle\n",
    "font=cv2.FONT_HERSHEY_COMPLEX\n",
    "#img=cv2.putText('img','opencv'(10,500),font,4,(255,255,255),10,cv2.LINE_AA)\n",
    "cv2.imshow('frame',img)\n",
    "cv2.waitKey()\n",
    "cv2.destroyAllWindows"
   ]
  },
  {
   "cell_type": "markdown",
   "metadata": {},
   "source": [
    "How to reset the frame size in Open cv"
   ]
  },
  {
   "cell_type": "code",
   "execution_count": 1,
   "metadata": {},
   "outputs": [
    {
     "name": "stdout",
     "output_type": "stream",
     "text": [
      "640.0\n",
      "-1.0\n",
      "1280.0\n",
      "-1.0\n"
     ]
    },
    {
     "ename": "error",
     "evalue": "OpenCV(4.10.0) D:\\a\\opencv-python\\opencv-python\\opencv\\modules\\highgui\\src\\window.cpp:1301: error: (-2:Unspecified error) The function is not implemented. Rebuild the library with Windows, GTK+ 2.x or Cocoa support. If you are on Ubuntu or Debian, install libgtk2.0-dev and pkg-config, then re-run cmake or configure script in function 'cvShowImage'\n",
     "output_type": "error",
     "traceback": [
      "\u001b[1;31m---------------------------------------------------------------------------\u001b[0m",
      "\u001b[1;31merror\u001b[0m                                     Traceback (most recent call last)",
      "Cell \u001b[1;32mIn[1], line 11\u001b[0m\n\u001b[0;32m      9\u001b[0m \u001b[38;5;28;01mwhile\u001b[39;00m \u001b[38;5;28;01mTrue\u001b[39;00m:\n\u001b[0;32m     10\u001b[0m     ret,frame\u001b[38;5;241m=\u001b[39mcap\u001b[38;5;241m.\u001b[39mread()\n\u001b[1;32m---> 11\u001b[0m     \u001b[43mcv2\u001b[49m\u001b[38;5;241;43m.\u001b[39;49m\u001b[43mimshow\u001b[49m\u001b[43m(\u001b[49m\u001b[38;5;124;43m'\u001b[39;49m\u001b[38;5;124;43mframe\u001b[39;49m\u001b[38;5;124;43m'\u001b[39;49m\u001b[43m,\u001b[49m\u001b[43mframe\u001b[49m\u001b[43m)\u001b[49m\n\u001b[0;32m     12\u001b[0m     \u001b[38;5;28;01mif\u001b[39;00m cv2\u001b[38;5;241m.\u001b[39mwaitKey(\u001b[38;5;241m1\u001b[39m) \u001b[38;5;241m&\u001b[39m \u001b[38;5;241m0xFF\u001b[39m\u001b[38;5;241m==\u001b[39m\u001b[38;5;28mord\u001b[39m(\u001b[38;5;124m'\u001b[39m\u001b[38;5;124mq\u001b[39m\u001b[38;5;124m'\u001b[39m):\n\u001b[0;32m     13\u001b[0m         \u001b[38;5;28;01mbreak\u001b[39;00m\n",
      "\u001b[1;31merror\u001b[0m: OpenCV(4.10.0) D:\\a\\opencv-python\\opencv-python\\opencv\\modules\\highgui\\src\\window.cpp:1301: error: (-2:Unspecified error) The function is not implemented. Rebuild the library with Windows, GTK+ 2.x or Cocoa support. If you are on Ubuntu or Debian, install libgtk2.0-dev and pkg-config, then re-run cmake or configure script in function 'cvShowImage'\n"
     ]
    }
   ],
   "source": [
    "import cv2\n",
    "cap=cv2.VideoCapture(0)\n",
    "print(cap.get(cv2.CAP_PROP_FRAME_WIDTH))\n",
    "print(cap.get(cv2.CAP_PROP_FRAME_TYPE))\n",
    "cap.set(3,1200)\n",
    "cap.set(4,1200)\n",
    "print(cap.get(cv2.CAP_PROP_FRAME_WIDTH))\n",
    "print(cap.get(cv2.CAP_PROP_FRAME_TYPE))\n",
    "while True:\n",
    "    ret,frame=cap.read()\n",
    "    cv2.imshow('frame',frame)\n",
    "    if cv2.waitKey(1) & 0xFF==ord('q'):\n",
    "        break\n",
    "cap.release()\n",
    "cv2.destroyAllWindows\n",
    "    "
   ]
  },
  {
   "cell_type": "markdown",
   "metadata": {},
   "source": [
    "How to Mark the date and time on the output screen"
   ]
  },
  {
   "cell_type": "code",
   "execution_count": null,
   "metadata": {},
   "outputs": [],
   "source": [
    "import cv2\n",
    "import datetime\n",
    "cap=cv2.VideoCapture(0)\n",
    "while True:\n",
    "    ret,frame=cap.read()\n",
    "    font=cv2.FONT_HERSHEY_SIMPLEX\n",
    "    cv2.putText(frame,str(datetime.datetime.now()),(10,50),font,1,(256,255,255),2,cv2.LINE_AA)\n",
    "    #the first value is frame and the date and time is in the integer converting it into the string\n",
    "    cv2.imshow('frame',frame)\n",
    "    if cv2.waitKey(1) & 0xFF==ord('q'):\n",
    "        break \n",
    "cap.release \n",
    "cv2.destroyAllWindows"
   ]
  },
  {
   "cell_type": "markdown",
   "metadata": {},
   "source": [
    "We can also create some event by using diffrent button in the mouse,It will be called as the mouse event"
   ]
  },
  {
   "cell_type": "markdown",
   "metadata": {},
   "source": [
    "How to create track bar by usin opencv and numpay array and the change the colour"
   ]
  },
  {
   "cell_type": "code",
   "execution_count": null,
   "metadata": {},
   "outputs": [],
   "source": [
    "import cv2\n",
    "import numpy as np\n",
    "\n",
    "def trackbar_value (x): #This function will print the current location of the track bar\n",
    "    print(x)\n",
    "    \n",
    "img = np.zeros((512, 512, 3), dtype = \"uint8\") #the first one specify the height and width of the pic and the third one specify the color channel\n",
    "                                                #dtype specify the type of the no. of pixel in the image\n",
    "                                                \n",
    "cv2.namedWindow('image')              #creating a window for the new \n",
    "\n",
    "cv2.createTrackbar('B','image',0,255, trackbar_value)   \n",
    "cv2.createTrackbar('G','image',0,255, trackbar_value)                                         \n",
    "cv2.createTrackbar('R','image',0,255, trackbar_value)                                         \n",
    "\n",
    "while(1):\n",
    "    cv2.imshow('image',img)\n",
    "    k=cv2.waitKey(1) & 0xFF \n",
    "    if k==27:\n",
    "        break\n",
    "    \n",
    "    #It will print in the termnal the current location of the trackbar\n",
    "    b=cv2.getTrackbarPos('B','image')\n",
    "    g=cv2.getTrackbarPos('G','image')\n",
    "    r=cv2.getTrackbarPos('R','image')\n",
    "\n",
    "    img[:]=[b,g,r]\n",
    "    \n",
    "cv2.destroyAllWindows()\n",
    "\n",
    "#we can also change the colou of any picture and print its value on the same picture"
   ]
  },
  {
   "cell_type": "markdown",
   "metadata": {},
   "source": [
    "How to detect object by using VIOLA & JONES method"
   ]
  },
  {
   "cell_type": "code",
   "execution_count": 6,
   "metadata": {},
   "outputs": [
    {
     "ename": "NameError",
     "evalue": "name 'datetime' is not defined",
     "output_type": "error",
     "traceback": [
      "\u001b[1;31m---------------------------------------------------------------------------\u001b[0m",
      "\u001b[1;31mNameError\u001b[0m                                 Traceback (most recent call last)",
      "Cell \u001b[1;32mIn[6], line 6\u001b[0m\n\u001b[0;32m      4\u001b[0m fail,actual_video\u001b[38;5;241m=\u001b[39mcap\u001b[38;5;241m.\u001b[39mread()\n\u001b[0;32m      5\u001b[0m bgr\u001b[38;5;241m=\u001b[39mcv2\u001b[38;5;241m.\u001b[39mcvtColor(actual_video,cv2\u001b[38;5;241m.\u001b[39mCOLOR_BGR2Lab)\n\u001b[1;32m----> 6\u001b[0m cv2\u001b[38;5;241m.\u001b[39mputText(bgr,\u001b[43mdatetime\u001b[49m\u001b[38;5;241m.\u001b[39mnow()\u001b[38;5;241m.\u001b[39mstrftime(\u001b[38;5;124m'\u001b[39m\u001b[38;5;124m%\u001b[39m\u001b[38;5;124mA \u001b[39m\u001b[38;5;132;01m%d\u001b[39;00m\u001b[38;5;124m \u001b[39m\u001b[38;5;124m%\u001b[39m\u001b[38;5;124mB \u001b[39m\u001b[38;5;124m%\u001b[39m\u001b[38;5;124mY \u001b[39m\u001b[38;5;124m%\u001b[39m\u001b[38;5;124mI:\u001b[39m\u001b[38;5;124m%\u001b[39m\u001b[38;5;124mM:\u001b[39m\u001b[38;5;124m%\u001b[39m\u001b[38;5;124mS\u001b[39m\u001b[38;5;124m%\u001b[39m\u001b[38;5;124mp\u001b[39m\u001b[38;5;124m'\u001b[39m),(\u001b[38;5;241m10\u001b[39m,\u001b[38;5;241m50\u001b[39m),cv2\u001b[38;5;241m.\u001b[39mFONT_HERSHEY_SIMPLEX,\u001b[38;5;241m1\u001b[39m,(\u001b[38;5;241m255\u001b[39m,\u001b[38;5;241m255\u001b[39m,\u001b[38;5;241m255\u001b[39m),\u001b[38;5;241m2\u001b[39m,cv2\u001b[38;5;241m.\u001b[39mLINE_AA)\n\u001b[0;32m      7\u001b[0m cv2\u001b[38;5;241m.\u001b[39mimshow(\u001b[38;5;124m'\u001b[39m\u001b[38;5;124mactual_video\u001b[39m\u001b[38;5;124m'\u001b[39m,bgr)\n\u001b[0;32m      8\u001b[0m \u001b[38;5;28;01mif\u001b[39;00m cv2\u001b[38;5;241m.\u001b[39mwaitKey(\u001b[38;5;241m1\u001b[39m) \u001b[38;5;241m&\u001b[39m \u001b[38;5;241m0xFF\u001b[39m\u001b[38;5;241m==\u001b[39m\u001b[38;5;28mord\u001b[39m(\u001b[38;5;124m'\u001b[39m\u001b[38;5;124mq\u001b[39m\u001b[38;5;124m'\u001b[39m):\n",
      "\u001b[1;31mNameError\u001b[0m: name 'datetime' is not defined"
     ]
    }
   ],
   "source": [
    "import cv2\n",
    "cap=cv2.VideoCapture(0)\n",
    "while (True):\n",
    "    fail,actual_video=cap.read()\n",
    "    bgr=cv2.cvtColor(actual_video,cv2.COLOR_BGR2Lab)\n",
    "    cv2.imshow('actual_video',bgr)\n",
    "    if cv2.waitKey(1) & 0xFF==ord('q'):\n",
    "        break\n",
    "cap.release()\n",
    "cv2.destroyAllWindows()\n"
   ]
  },
  {
   "cell_type": "markdown",
   "metadata": {},
   "source": []
  }
 ],
 "metadata": {
  "kernelspec": {
   "display_name": "Python 3",
   "language": "python",
   "name": "python3"
  },
  "language_info": {
   "codemirror_mode": {
    "name": "ipython",
    "version": 3
   },
   "file_extension": ".py",
   "mimetype": "text/x-python",
   "name": "python",
   "nbconvert_exporter": "python",
   "pygments_lexer": "ipython3",
   "version": "3.10.11"
  }
 },
 "nbformat": 4,
 "nbformat_minor": 2
}
